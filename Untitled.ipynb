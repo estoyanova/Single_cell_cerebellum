{
 "cells": [
  {
   "cell_type": "code",
   "execution_count": 9,
   "metadata": {},
   "outputs": [
    {
     "data": {
      "text/plain": [
       "'/Users/elitsa/Dropbox/single_cell_cerebellum'"
      ]
     },
     "execution_count": 9,
     "metadata": {},
     "output_type": "execute_result"
    }
   ],
   "source": [
    "pwd"
   ]
  },
  {
   "cell_type": "code",
   "execution_count": 14,
   "metadata": {},
   "outputs": [
    {
     "name": "stdout",
     "output_type": "stream",
     "text": [
      "\u001b[31mLICENSE\u001b[m\u001b[m*                          \u001b[31ml6_r4_cerebellum_neurons.loom\u001b[m\u001b[m*\r\n",
      "\u001b[31mREADME.md\u001b[m\u001b[m*                        \u001b[31mmeans_sn_cb.pdf\u001b[m\u001b[m*\r\n",
      "\u001b[31mSingle_cell_cerebellum.Rproj\u001b[m\u001b[m*     \u001b[31mnico_sn_seq_analysis.Rmd\u001b[m\u001b[m*\r\n",
      "\u001b[31mUntitled.ipynb\u001b[m\u001b[m*                   \u001b[31mnico_sn_seq_analysis.nb.html\u001b[m\u001b[m*\r\n",
      "\u001b[31mbroad_peak_anno_NO_dmv_genes.txt\u001b[m\u001b[m* \u001b[31mnoaccsb_dmv_genes.txt\u001b[m\u001b[m*\r\n",
      "\u001b[31mbroad_peak_anno_dmv_genes.txt\u001b[m\u001b[m*    \u001b[31msnSeq_cb_dev.Rmd\u001b[m\u001b[m*\r\n",
      "\u001b[31mcerebellum_cell_metadata.tsv\u001b[m\u001b[m*     \u001b[31msnSeq_cb_dev.nb.html\u001b[m\u001b[m*\r\n",
      "\u001b[31mcv_sn_cb.pdf\u001b[m\u001b[m*                     \u001b[31mtop1k_no_dmv_broadpeak_genes.txt\u001b[m\u001b[m*\r\n",
      "\u001b[31mfunction_test.R\u001b[m\u001b[m*                  \u001b[31mtop2k_no_dmv_broadpeak_genes.txt\u001b[m\u001b[m*\r\n",
      "\u001b[31ml1_cerebellum.loom\u001b[m\u001b[m*               \u001b[31mtop95_genes.txt\u001b[m\u001b[m*\r\n",
      "\u001b[31ml6_r3_cerebellum_neurons.loom\u001b[m\u001b[m*\r\n"
     ]
    }
   ],
   "source": [
    "ls"
   ]
  },
  {
   "cell_type": "code",
   "execution_count": 16,
   "metadata": {},
   "outputs": [
    {
     "data": {
      "text/html": [
       "<p>27998 rows, 5292 columns, 1 layer<br/>(showing up to 10x10)<br/>l6_r3_cerebellum_neurons.loom<br/>name: <em>2018/01/28 19:21:24</em><br/>name: <em>20180404T090617.969209Z</em><br/>name: <em>['0.2.0']</em><br/><table><tr><td>&nbsp;</td><td>&nbsp;</td><td>&nbsp;</td><td>&nbsp;</td><td>&nbsp;</td><td>&nbsp;</td><td>&nbsp;</td><td><strong>Age</strong></td><td>p19</td><td>p25</td><td>p19</td><td>p19</td><td>p19</td><td>p19</td><td>p19</td><td>p19</td><td>p19</td><td>p19</td><td>...</td></tr><tr><td>&nbsp;</td><td>&nbsp;</td><td>&nbsp;</td><td>&nbsp;</td><td>&nbsp;</td><td>&nbsp;</td><td>&nbsp;</td><td><strong>AnalysisPool</strong></td><td>Cerebellum</td><td>Cerebellum</td><td>Cerebellum</td><td>Cerebellum</td><td>Cerebellum</td><td>Cerebellum</td><td>Cerebellum</td><td>Cerebellum</td><td>Cerebellum</td><td>Cerebellum</td><td>...</td></tr><tr><td>&nbsp;</td><td>&nbsp;</td><td>&nbsp;</td><td>&nbsp;</td><td>&nbsp;</td><td>&nbsp;</td><td>&nbsp;</td><td><strong>AnalysisProject</strong></td><td>Adolescent</td><td>Adolescent</td><td>Adolescent</td><td>Adolescent</td><td>Adolescent</td><td>Adolescent</td><td>Adolescent</td><td>Adolescent</td><td>Adolescent</td><td>Adolescent</td><td>...</td></tr><tr><td>&nbsp;</td><td>&nbsp;</td><td>&nbsp;</td><td>&nbsp;</td><td>&nbsp;</td><td>&nbsp;</td><td>&nbsp;</td><td><strong>Bucket</strong></td><td>/Users/sten/build_20171205/L4_Hindbrain_Inhibitory.loom</td><td>/Users/sten/build_20171205/L4_Hindbrain_Inhibitory.loom</td><td>/Users/sten/build_20171205/L4_Hindbrain_Inhibitory.loom</td><td>/Users/sten/build_20171205/L4_Hindbrain_Inhibitory.loom</td><td>/Users/sten/build_20171205/L4_Hindbrain_Inhibitory.loom</td><td>/Users/sten/build_20171205/L4_Hindbrain_Inhibitory.loom</td><td>/Users/sten/build_20171205/L4_Hindbrain_Inhibitory.loom</td><td>/Users/sten/build_20171205/L4_Hindbrain_Inhibitory.loom</td><td>/Users/sten/build_20171205/L4_Hindbrain_Inhibitory.loom</td><td>/Users/sten/build_20171205/L4_Hindbrain_Inhibitory.loom</td><td>...</td></tr><tr><td>&nbsp;</td><td>&nbsp;</td><td>&nbsp;</td><td>&nbsp;</td><td>&nbsp;</td><td>&nbsp;</td><td>&nbsp;</td><td><strong>CellConc</strong></td><td>1000</td><td>1000</td><td>1000</td><td>1000</td><td>1000</td><td>1000</td><td>1000</td><td>1000</td><td>1000</td><td>1000</td><td>...</td></tr><tr><td>&nbsp;</td><td>&nbsp;</td><td>&nbsp;</td><td>&nbsp;</td><td>&nbsp;</td><td>&nbsp;</td><td>&nbsp;</td><td><strong>CellID</strong></td><td>10X51_2_TTATACAGCACT-</td><td>10X26_1_CAGACTGACAGATC-1</td><td>10X51_1_TAATGAGTACAC-</td><td>10X51_1_AGATGACTGAAC-</td><td>10X51_2_AGTGTGCTTAGG-</td><td>10X51_2_ATTCACCCTTGC-</td><td>10X51_1_AGATGATAAGCC-</td><td>10X51_1_GCAGGAGCTACA-</td><td>10X51_1_TTTGCTTCTGGA-</td><td>10X51_1_TCTAGAAGCGGA-</td><td>...</td></tr><tr><td>&nbsp;</td><td>&nbsp;</td><td>&nbsp;</td><td>&nbsp;</td><td>&nbsp;</td><td>&nbsp;</td><td>&nbsp;</td><td><strong>Cell_Conc</strong></td><td>1000</td><td>1000</td><td>1000</td><td>1000</td><td>1000</td><td>1000</td><td>1000</td><td>1000</td><td>1000</td><td>1000</td><td>...</td></tr><tr><td>&nbsp;</td><td>&nbsp;</td><td>&nbsp;</td><td>&nbsp;</td><td>&nbsp;</td><td>&nbsp;</td><td>&nbsp;</td><td><strong>ChipID</strong></td><td>10X51</td><td>10X26</td><td>10X51</td><td>10X51</td><td>10X51</td><td>10X51</td><td>10X51</td><td>10X51</td><td>10X51</td><td>10X51</td><td>...</td></tr><tr><td>&nbsp;</td><td>&nbsp;</td><td>&nbsp;</td><td>&nbsp;</td><td>&nbsp;</td><td>&nbsp;</td><td>&nbsp;</td><td><strong>Class</strong></td><td>Neurons</td><td>Neurons</td><td>Neurons</td><td>Neurons</td><td>Neurons</td><td>Neurons</td><td>Neurons</td><td>Neurons</td><td>Neurons</td><td>Neurons</td><td>...</td></tr><tr><td>&nbsp;</td><td>&nbsp;</td><td>&nbsp;</td><td>&nbsp;</td><td>&nbsp;</td><td>&nbsp;</td><td>&nbsp;</td><td><strong>ClassProbability_Astrocyte</strong></td><td>0.0020897945840014183</td><td>0.0020413355802848267</td><td>0.0006605480923604451</td><td>0.002193989119094472</td><td>0.0028704186492867338</td><td>0.0015824309845305414</td><td>0.0015488805190061604</td><td>0.0017924826793768757</td><td>0.0016857807354469982</td><td>0.001541058031087465</td><td>...</td></tr><tr><td>&nbsp;</td><td>&nbsp;</td><td>&nbsp;</td><td>&nbsp;</td><td>&nbsp;</td><td>&nbsp;</td><td>&nbsp;</td><td><strong>ClassProbability_Astrocyte,Immune</strong></td><td>0.0005331608133291047</td><td>0.0005239601277821945</td><td>7.460510947171706e-05</td><td>0.0005521557982560714</td><td>0.0006742271242435985</td><td>0.00042242248417455336</td><td>0.0004171772621887384</td><td>0.0004705249884489212</td><td>0.00042599644772413093</td><td>0.00040018088799356657</td><td>...</td></tr><tr><td>&nbsp;</td><td>&nbsp;</td><td>&nbsp;</td><td>&nbsp;</td><td>&nbsp;</td><td>&nbsp;</td><td>&nbsp;</td><td><strong>ClassProbability_Astrocyte,Neurons</strong></td><td>0.0027075267993876438</td><td>0.002687831920146827</td><td>0.00037518254970288353</td><td>0.002750900877485968</td><td>0.0029904613825194573</td><td>0.002437290625211027</td><td>0.002424236657960739</td><td>0.0025687742854700476</td><td>0.0027480006772034843</td><td>0.0024874180007003525</td><td>...</td></tr><tr><td>&nbsp;</td><td>&nbsp;</td><td>&nbsp;</td><td>&nbsp;</td><td>&nbsp;</td><td>&nbsp;</td><td>&nbsp;</td><td><strong>ClassProbability_Astrocyte,Oligos</strong></td><td>0.0007242904958362998</td><td>0.0007124829960031795</td><td>0.00015165062017178778</td><td>0.0007493961150277612</td><td>0.0009045752075339558</td><td>0.0005839946752557611</td><td>0.0005755407803313127</td><td>0.0006445620335645424</td><td>0.000617083640904024</td><td>0.0005704865579275294</td><td>...</td></tr><tr><td>&nbsp;</td><td>&nbsp;</td><td>&nbsp;</td><td>&nbsp;</td><td>&nbsp;</td><td>&nbsp;</td><td>&nbsp;</td><td><strong>ClassProbability_Astrocyte,Vascular</strong></td><td>0.0003616467543043138</td><td>0.0003557220384413017</td><td>6.844984877407275e-05</td><td>0.0003738174802474529</td><td>0.00044856220310335445</td><td>0.0002892084925440505</td><td>0.000285742213119735</td><td>0.0003209691653004791</td><td>0.00029368180912085583</td><td>0.0002749774126427485</td><td>...</td></tr><tr><td>&nbsp;</td><td>&nbsp;</td><td>&nbsp;</td><td>&nbsp;</td><td>&nbsp;</td><td>&nbsp;</td><td>&nbsp;</td><td><strong>ClassProbability_Bergmann-glia</strong></td><td>0.0006524822408082699</td><td>0.0006416730792113267</td><td>0.00016243102350908958</td><td>0.000675127279251914</td><td>0.0008159277293671779</td><td>0.000520577080041305</td><td>0.0005142133083478983</td><td>0.0005784730317403632</td><td>0.000518643983236965</td><td>0.0004976385951446893</td><td>...</td></tr><tr><td>&nbsp;</td><td>&nbsp;</td><td>&nbsp;</td><td>&nbsp;</td><td>&nbsp;</td><td>&nbsp;</td><td>&nbsp;</td><td><strong>ClassProbability_Blood</strong></td><td>0.003149296565226922</td><td>0.003078517071242652</td><td>0.001256939767840488</td><td>0.0033002693014002366</td><td>0.004291398161964074</td><td>0.002457681506426472</td><td>0.0024018520295785457</td><td>0.002729741149598947</td><td>0.0024687725874251104</td><td>0.0024438237695181705</td><td>...</td></tr><tr><td>&nbsp;</td><td>&nbsp;</td><td>&nbsp;</td><td>&nbsp;</td><td>&nbsp;</td><td>&nbsp;</td><td>&nbsp;</td><td><strong>ClassProbability_Blood,Vascular</strong></td><td>0.0006850682343247177</td><td>0.0006723577411985733</td><td>0.00013100625864565204</td><td>0.0007119601558157421</td><td>0.0008920337340534564</td><td>0.0005405920326869452</td><td>0.0005333678268991444</td><td>0.0006023677752924284</td><td>0.0005416075878301424</td><td>0.0005144600621152418</td><td>...</td></tr><tr><td>&nbsp;</td><td>&nbsp;</td><td>&nbsp;</td><td>&nbsp;</td><td>&nbsp;</td><td>&nbsp;</td><td>&nbsp;</td><td><strong>ClassProbability_Enteric-glia</strong></td><td>0.00213832692482258</td><td>0.0020664492800056816</td><td>0.00036632841607759823</td><td>0.0022926899829514053</td><td>0.003452775224314911</td><td>0.0015008835677690392</td><td>0.0014586153767305746</td><td>0.001738606248256111</td><td>0.0016767436299108937</td><td>0.0014879503168362886</td><td>...</td></tr><tr><td>&nbsp;</td><td>&nbsp;</td><td>&nbsp;</td><td>&nbsp;</td><td>&nbsp;</td><td>&nbsp;</td><td>&nbsp;</td><td><strong>ClassProbability_Enteric-glia,Cycling</strong></td><td>0.000531585748365054</td><td>0.0005217953042333819</td><td>5.73307274802545e-05</td><td>0.0005517525118441548</td><td>0.0006810329272719392</td><td>0.0004132797873767778</td><td>0.00040784081551012696</td><td>0.00046491085339734624</td><td>0.00040518834123933053</td><td>0.0003852861438750917</td><td>...</td></tr><tr><td>&nbsp;</td><td>&nbsp;</td><td>&nbsp;</td><td>&nbsp;</td><td>&nbsp;</td><td>&nbsp;</td><td>&nbsp;</td><td><strong>ClassProbability_Ependymal</strong></td><td>0.0026922422270964515</td><td>0.0025424156771582155</td><td>0.00019548448488157912</td><td>0.0030326555278962254</td><td>0.006402456013379039</td><td>0.001622454846446281</td><td>0.0015660934882305803</td><td>0.00195796746265823</td><td>0.002068857658933332</td><td>0.001670295921683944</td><td>...</td></tr><tr><td>&nbsp;</td><td>&nbsp;</td><td>&nbsp;</td><td>&nbsp;</td><td>&nbsp;</td><td>&nbsp;</td><td>&nbsp;</td><td><strong>ClassProbability_Ex-Neurons</strong></td><td>0.0010633898526644949</td><td>0.0010504327586131456</td><td>0.0010774067725675001</td><td>0.0010898954653114727</td><td>0.0012457689106841305</td><td>0.0009080868458801447</td><td>0.0008981499842544916</td><td>0.000974924218349169</td><td>0.000963139043869283</td><td>0.0008981898295587903</td><td>...</td></tr><tr><td>&nbsp;</td><td>&nbsp;</td><td>&nbsp;</td><td>&nbsp;</td><td>&nbsp;</td><td>&nbsp;</td><td>&nbsp;</td><td><strong>ClassProbability_Ex-Vascular</strong></td><td>0.0001605603119609813</td><td>0.00015818293435556854</td><td>3.066026584325453e-05</td><td>0.0001655122470939958</td><td>0.00019549827678334042</td><td>0.0001291632764661779</td><td>0.00012793251954396924</td><td>0.00014300978424526274</td><td>0.00013141902582573415</td><td>0.0001223043628394715</td><td>...</td></tr><tr><td>&nbsp;</td><td>&nbsp;</td><td>&nbsp;</td><td>&nbsp;</td><td>&nbsp;</td><td>&nbsp;</td><td>&nbsp;</td><td><strong>ClassProbability_Immune</strong></td><td>0.004807381003656757</td><td>0.004385990003599078</td><td>0.0003459299114999504</td><td>0.005796710541293179</td><td>0.017214201974775172</td><td>0.002244305149791942</td><td>0.0021390425204007783</td><td>0.002960250156121325</td><td>0.0027067704001112886</td><td>0.0022081732305677206</td><td>...</td></tr><tr><td>&nbsp;</td><td>&nbsp;</td><td>&nbsp;</td><td>&nbsp;</td><td>&nbsp;</td><td>&nbsp;</td><td>&nbsp;</td><td><strong>ClassProbability_Immune,Neurons</strong></td><td>0.0007140303007600348</td><td>0.0007032594255604764</td><td>0.00010274002523831417</td><td>0.0007363368735566625</td><td>0.000874881103241853</td><td>0.000584405841057827</td><td>0.000577559443511967</td><td>0.0006406198634540232</td><td>0.000599960634188601</td><td>0.0005653820030494769</td><td>...</td></tr><tr><td>&nbsp;</td><td>&nbsp;</td><td>&nbsp;</td><td>&nbsp;</td><td>&nbsp;</td><td>&nbsp;</td><td>&nbsp;</td><td><strong>ClassProbability_Immune,Oligos</strong></td><td>0.0005809431665202212</td><td>0.0005714520431387936</td><td>9.888042716974183e-05</td><td>0.0006005690480138627</td><td>0.0007248258677312418</td><td>0.000467892923227222</td><td>0.00046195231741936576</td><td>0.0005169840891599724</td><td>0.00047727247769285955</td><td>0.0004472990550791415</td><td>...</td></tr><tr><td>&nbsp;</td><td>&nbsp;</td><td>&nbsp;</td><td>&nbsp;</td><td>&nbsp;</td><td>&nbsp;</td><td>&nbsp;</td><td><strong>ClassProbability_Neurons</strong></td><td>0.9551883253643678</td><td>0.9568920868727954</td><td>0.9787308678599047</td><td>0.9512533534184224</td><td>0.9140751251997831</td><td>0.9677217092502854</td><td>0.968500793924884</td><td>0.9634841065533871</td><td>0.9631687690660985</td><td>0.9678934376498897</td><td>...</td></tr><tr><td>&nbsp;</td><td>&nbsp;</td><td>&nbsp;</td><td>&nbsp;</td><td>&nbsp;</td><td>&nbsp;</td><td>&nbsp;</td><td><strong>ClassProbability_Neurons,Cycling</strong></td><td>0.001203633217626134</td><td>0.0011890661475369446</td><td>0.0003988082394652828</td><td>0.0012335706172870156</td><td>0.0014007481520524182</td><td>0.0010239458835030791</td><td>0.0010122398894886404</td><td>0.0011023272021184376</td><td>0.001017557553151987</td><td>0.0010053125068563557</td><td>...</td></tr><tr><td>&nbsp;</td><td>&nbsp;</td><td>&nbsp;</td><td>&nbsp;</td><td>&nbsp;</td><td>&nbsp;</td><td>&nbsp;</td><td><strong>ClassProbability_Neurons,Oligos</strong></td><td>0.004763391423920707</td><td>0.004726415373744227</td><td>0.01154983810473092</td><td>0.004834383971575586</td><td>0.00523733099054946</td><td>0.004404380359327394</td><td>0.004379758795198797</td><td>0.004515281858437977</td><td>0.006492323312767728</td><td>0.0048193204293876715</td><td>...</td></tr><tr><td>&nbsp;</td><td>&nbsp;</td><td>&nbsp;</td><td>&nbsp;</td><td>&nbsp;</td><td>&nbsp;</td><td>&nbsp;</td><td><strong>ClassProbability_Neurons,Satellite-glia</strong></td><td>0.00013171549664700913</td><td>0.00013001971125494355</td><td>3.406307393184393e-05</td><td>0.0001351169912639828</td><td>0.00015467418907508357</td><td>0.00010877759235717608</td><td>0.0001080027667832192</td><td>0.00011903114512021725</td><td>0.0001092014327338536</td><td>0.00010265549354308594</td><td>...</td></tr><tr><td>&nbsp;</td><td>&nbsp;</td><td>&nbsp;</td><td>&nbsp;</td><td>&nbsp;</td><td>&nbsp;</td><td>&nbsp;</td><td><strong>ClassProbability_Neurons,Vascular</strong></td><td>0.0001239111313555028</td><td>0.00012239043322155097</td><td>3.7464964985542414e-05</td><td>0.0001269677157568068</td><td>0.00014470733322854612</td><td>0.00010341768966590661</td><td>0.00010273640610768588</td><td>0.00011256655185293026</td><td>0.0001021031420915023</td><td>9.745422653999365e-05</td><td>...</td></tr><tr><td>&nbsp;</td><td>&nbsp;</td><td>&nbsp;</td><td>&nbsp;</td><td>&nbsp;</td><td>&nbsp;</td><td>&nbsp;</td><td><strong>ClassProbability_OEC</strong></td><td>0.0001414051755278809</td><td>0.00013974847600390166</td><td>4.0772416973782334e-05</td><td>0.0001447292723944868</td><td>0.00016367240894023602</td><td>0.00011901846651508878</td><td>0.00011824384172085362</td><td>0.0001290131780022898</td><td>0.0001172024821551675</td><td>0.00011260746892737805</td><td>...</td></tr><tr><td>&nbsp;</td><td>&nbsp;</td><td>&nbsp;</td><td>&nbsp;</td><td>&nbsp;</td><td>&nbsp;</td><td>&nbsp;</td><td><strong>ClassProbability_Oligos</strong></td><td>0.005008277934910338</td><td>0.004863775571388911</td><td>0.0020910119725187433</td><td>0.005327368820215866</td><td>0.007389782380099267</td><td>0.0037360417136507573</td><td>0.0035804802795835022</td><td>0.0041702107721053715</td><td>0.004034117432554526</td><td>0.0036152440825694397</td><td>...</td></tr><tr><td>&nbsp;</td><td>&nbsp;</td><td>&nbsp;</td><td>&nbsp;</td><td>&nbsp;</td><td>&nbsp;</td><td>&nbsp;</td><td><strong>ClassProbability_Oligos,Cycling</strong></td><td>0.0009186153325937352</td><td>0.000904038532011622</td><td>0.00025751341242785295</td><td>0.0009488400611951726</td><td>0.001136491949333483</td><td>0.000750098696769913</td><td>0.0007404130093063699</td><td>0.0008220511688954073</td><td>0.0007568993907131323</td><td>0.0007231319050333513</td><td>...</td></tr><tr><td>&nbsp;</td><td>&nbsp;</td><td>&nbsp;</td><td>&nbsp;</td><td>&nbsp;</td><td>&nbsp;</td><td>&nbsp;</td><td><strong>ClassProbability_Oligos,Vascular</strong></td><td>0.0004920381859518343</td><td>0.00048382075505080366</td><td>9.172113676295527e-05</td><td>0.000509087043543887</td><td>0.0006167279916033507</td><td>0.0003932599147885079</td><td>0.0003885139190161615</td><td>0.000436346793693436</td><td>0.00039951063442839415</td><td>0.00037404495825073465</td><td>...</td></tr><tr><td>&nbsp;</td><td>&nbsp;</td><td>&nbsp;</td><td>&nbsp;</td><td>&nbsp;</td><td>&nbsp;</td><td>&nbsp;</td><td><strong>ClassProbability_Satellite-glia</strong></td><td>0.00033725546863555626</td><td>0.0003325299401583574</td><td>9.732475018082563e-05</td><td>0.00034702747039794664</td><td>0.0004039196358703909</td><td>0.0002767858493778313</td><td>0.0002737037421898274</td><td>0.0003035554976666874</td><td>0.0002777041053460281</td><td>0.0002637380116845502</td><td>...</td></tr><tr><td>&nbsp;</td><td>&nbsp;</td><td>&nbsp;</td><td>&nbsp;</td><td>&nbsp;</td><td>&nbsp;</td><td>&nbsp;</td><td><strong>ClassProbability_Satellite-glia,Cycling</strong></td><td>0.00034789659280412956</td><td>0.0003418893501856923</td><td>4.894564235516247e-05</td><td>0.00036025712446129224</td><td>0.00043713864330595435</td><td>0.0002737451007504013</td><td>0.00027035795579824105</td><td>0.0003062551508310397</td><td>0.0002717501596270328</td><td>0.0002565909318342032</td><td>...</td></tr><tr><td>&nbsp;</td><td>&nbsp;</td><td>&nbsp;</td><td>&nbsp;</td><td>&nbsp;</td><td>&nbsp;</td><td>&nbsp;</td><td><strong>ClassProbability_Satellite-glia,Schwann</strong></td><td>0.0002285463293854952</td><td>0.00022476192333900624</td><td>3.558960315176845e-05</td><td>0.00023632184885130457</td><td>0.0002838311523611686</td><td>0.00018056608048778493</td><td>0.00017848728707217234</td><td>0.00020168434180983975</td><td>0.00018081670612014034</td><td>0.00016939068775188187</td><td>...</td></tr><tr><td>&nbsp;</td><td>&nbsp;</td><td>&nbsp;</td><td>&nbsp;</td><td>&nbsp;</td><td>&nbsp;</td><td>&nbsp;</td><td><strong>ClassProbability_Schwann</strong></td><td>0.0003378061296102605</td><td>0.00033197617985590013</td><td>4.488434560456459e-05</td><td>0.0003498267768902008</td><td>0.0004245652687434284</td><td>0.00026519605661977895</td><td>0.00026192052357170055</td><td>0.0002970867536919992</td><td>0.0002627092067536055</td><td>0.0002480735808050179</td><td>...</td></tr><tr><td>&nbsp;</td><td>&nbsp;</td><td>&nbsp;</td><td>&nbsp;</td><td>&nbsp;</td><td>&nbsp;</td><td>&nbsp;</td><td><strong>ClassProbability_Ttr</strong></td><td>0.0025747663711730303</td><td>0.002470546063606524</td><td>0.0002564144976007544</td><td>0.0028028972683232017</td><td>0.004648150127399933</td><td>0.001706676925836887</td><td>0.0016513211604754496</td><td>0.0020162020453381377</td><td>0.001916253624834355</td><td>0.0016921407108348163</td><td>...</td></tr><tr><td>&nbsp;</td><td>&nbsp;</td><td>&nbsp;</td><td>&nbsp;</td><td>&nbsp;</td><td>&nbsp;</td><td>&nbsp;</td><td><strong>ClassProbability_Vascular</strong></td><td>0.004610689822425832</td><td>0.004133076688870794</td><td>0.0011292056781699662</td><td>0.005816513274879819</td><td>0.018804090087400437</td><td>0.0022317103011777963</td><td>0.0020948294357673795</td><td>0.00287911320261472</td><td>0.0025641630699620075</td><td>0.0021119331754718075</td><td>...</td></tr><tr><td>&nbsp;</td><td>&nbsp;</td><td>&nbsp;</td><td>&nbsp;</td><td>&nbsp;</td><td>&nbsp;</td><td>&nbsp;</td><td><strong>ClusterName</strong></td><td>CBPC</td><td>CBPC</td><td>CBPC</td><td>CBPC</td><td>CBPC</td><td>CBPC</td><td>CBPC</td><td>CBPC</td><td>CBPC</td><td>CBPC</td><td>...</td></tr><tr><td>&nbsp;</td><td>&nbsp;</td><td>&nbsp;</td><td>&nbsp;</td><td>&nbsp;</td><td>&nbsp;</td><td>&nbsp;</td><td><strong>Clusters</strong></td><td>0</td><td>0</td><td>0</td><td>0</td><td>0</td><td>0</td><td>0</td><td>0</td><td>0</td><td>0</td><td>...</td></tr><tr><td>&nbsp;</td><td>&nbsp;</td><td>&nbsp;</td><td>&nbsp;</td><td>&nbsp;</td><td>&nbsp;</td><td>&nbsp;</td><td><strong>Comment</strong></td><td>nan</td><td>nan</td><td>nan</td><td>nan</td><td>nan</td><td>nan</td><td>nan</td><td>nan</td><td>nan</td><td>nan</td><td>...</td></tr><tr><td>&nbsp;</td><td>&nbsp;</td><td>&nbsp;</td><td>&nbsp;</td><td>&nbsp;</td><td>&nbsp;</td><td>&nbsp;</td><td><strong>Comments</strong></td><td>Suspension good, some Purkinje alive-looking, but overwhelming # of GCs</td><td>Suspension majority very small cells, Purkinje notably dying, no albumin. Emulsion OK</td><td>Suspension good, some Purkinje alive-looking, but overwhelming # of GCs</td><td>Suspension good, some Purkinje alive-looking, but overwhelming # of GCs</td><td>Suspension good, some Purkinje alive-looking, but overwhelming # of GCs</td><td>Suspension good, some Purkinje alive-looking, but overwhelming # of GCs</td><td>Suspension good, some Purkinje alive-looking, but overwhelming # of GCs</td><td>Suspension good, some Purkinje alive-looking, but overwhelming # of GCs</td><td>Suspension good, some Purkinje alive-looking, but overwhelming # of GCs</td><td>Suspension good, some Purkinje alive-looking, but overwhelming # of GCs</td><td>...</td></tr><tr><td>&nbsp;</td><td>&nbsp;</td><td>&nbsp;</td><td>&nbsp;</td><td>&nbsp;</td><td>&nbsp;</td><td>&nbsp;</td><td><strong>DateCaptured</strong></td><td>2016-11-02 00:00:00</td><td>2016-09-11 00:00:00</td><td>2016-11-02 00:00:00</td><td>2016-11-02 00:00:00</td><td>2016-11-02 00:00:00</td><td>2016-11-02 00:00:00</td><td>2016-11-02 00:00:00</td><td>2016-11-02 00:00:00</td><td>2016-11-02 00:00:00</td><td>2016-11-02 00:00:00</td><td>...</td></tr><tr><td>&nbsp;</td><td>&nbsp;</td><td>&nbsp;</td><td>&nbsp;</td><td>&nbsp;</td><td>&nbsp;</td><td>&nbsp;</td><td><strong>Date_Captured</strong></td><td>2016-11-02</td><td>2015-09-11</td><td>2016-11-02</td><td>2016-11-02</td><td>2016-11-02</td><td>2016-11-02</td><td>2016-11-02</td><td>2016-11-02</td><td>2016-11-02</td><td>2016-11-02</td><td>...</td></tr><tr><td>&nbsp;</td><td>&nbsp;</td><td>&nbsp;</td><td>&nbsp;</td><td>&nbsp;</td><td>&nbsp;</td><td>&nbsp;</td><td><strong>Description</strong></td><td>Purkinje cells</td><td>Purkinje cells</td><td>Purkinje cells</td><td>Purkinje cells</td><td>Purkinje cells</td><td>Purkinje cells</td><td>Purkinje cells</td><td>Purkinje cells</td><td>Purkinje cells</td><td>Purkinje cells</td><td>...</td></tr><tr><td>&nbsp;</td><td>&nbsp;</td><td>&nbsp;</td><td>&nbsp;</td><td>&nbsp;</td><td>&nbsp;</td><td>&nbsp;</td><td><strong>Developmental_compartment</strong></td><td>Rhombencephalon</td><td>Rhombencephalon</td><td>Rhombencephalon</td><td>Rhombencephalon</td><td>Rhombencephalon</td><td>Rhombencephalon</td><td>Rhombencephalon</td><td>Rhombencephalon</td><td>Rhombencephalon</td><td>Rhombencephalon</td><td>...</td></tr><tr><td>&nbsp;</td><td>&nbsp;</td><td>&nbsp;</td><td>&nbsp;</td><td>&nbsp;</td><td>&nbsp;</td><td>&nbsp;</td><td><strong>DonorID</strong></td><td>Ad25</td><td>Ad13</td><td>Ad25</td><td>Ad25</td><td>Ad25</td><td>Ad25</td><td>Ad25</td><td>Ad25</td><td>Ad25</td><td>Ad25</td><td>...</td></tr><tr><td>&nbsp;</td><td>&nbsp;</td><td>&nbsp;</td><td>&nbsp;</td><td>&nbsp;</td><td>&nbsp;</td><td>&nbsp;</td><td><strong>Estimated Number of Cells</strong></td><td></td><td></td><td></td><td></td><td></td><td></td><td></td><td></td><td></td><td></td><td>...</td></tr><tr><td>&nbsp;</td><td>&nbsp;</td><td>&nbsp;</td><td>&nbsp;</td><td>&nbsp;</td><td>&nbsp;</td><td>&nbsp;</td><td><strong>Flowcell</strong></td><td>CAH8KANXX</td><td>C9W7TANXX</td><td>CAH8KANXX</td><td>CAH8KANXX</td><td>CAH8KANXX</td><td>CAH8KANXX</td><td>CAH8KANXX</td><td>CAH8KANXX</td><td>CAH8KANXX</td><td>CAH8KANXX</td><td>...</td></tr><tr><td>&nbsp;</td><td>&nbsp;</td><td>&nbsp;</td><td>&nbsp;</td><td>&nbsp;</td><td>&nbsp;</td><td>&nbsp;</td><td><strong>Fraction Reads in Cells</strong></td><td>38.6%</td><td>86.7%</td><td>37.1%</td><td>37.1%</td><td>38.6%</td><td>38.6%</td><td>37.1%</td><td>37.1%</td><td>37.1%</td><td>37.1%</td><td>...</td></tr><tr><td>&nbsp;</td><td>&nbsp;</td><td>&nbsp;</td><td>&nbsp;</td><td>&nbsp;</td><td>&nbsp;</td><td>&nbsp;</td><td><strong>Label</strong></td><td></td><td></td><td></td><td></td><td></td><td></td><td></td><td></td><td></td><td></td><td>...</td></tr><tr><td>&nbsp;</td><td>&nbsp;</td><td>&nbsp;</td><td>&nbsp;</td><td>&nbsp;</td><td>&nbsp;</td><td>&nbsp;</td><td><strong>LeafOrder</strong></td><td>175</td><td>175</td><td>175</td><td>175</td><td>175</td><td>175</td><td>175</td><td>175</td><td>175</td><td>175</td><td>...</td></tr><tr><td>&nbsp;</td><td>&nbsp;</td><td>&nbsp;</td><td>&nbsp;</td><td>&nbsp;</td><td>&nbsp;</td><td>&nbsp;</td><td><strong>Location_based_on</strong></td><td>Npy,Aasb4</td><td>Npy,Aasb4</td><td>Npy,Aasb4</td><td>Npy,Aasb4</td><td>Npy,Aasb4</td><td>Npy,Aasb4</td><td>Npy,Aasb4</td><td>Npy,Aasb4</td><td>Npy,Aasb4</td><td>Npy,Aasb4</td><td>...</td></tr><tr><td>&nbsp;</td><td>&nbsp;</td><td>&nbsp;</td><td>&nbsp;</td><td>&nbsp;</td><td>&nbsp;</td><td>&nbsp;</td><td><strong>Mean Reads per Cell</strong></td><td>39,375</td><td>451\"</td><td>28,770</td><td>28,770</td><td>39,375</td><td>39,375</td><td>28,770</td><td>28,770</td><td>28,770</td><td>28,770</td><td>...</td></tr><tr><td>&nbsp;</td><td>&nbsp;</td><td>&nbsp;</td><td>&nbsp;</td><td>&nbsp;</td><td>&nbsp;</td><td>&nbsp;</td><td><strong>Median Genes per Cell</strong></td><td>530</td><td>\"34</td><td>341</td><td>341</td><td>530</td><td>530</td><td>341</td><td>341</td><td>341</td><td>341</td><td>...</td></tr><tr><td>&nbsp;</td><td>&nbsp;</td><td>&nbsp;</td><td>&nbsp;</td><td>&nbsp;</td><td>&nbsp;</td><td>&nbsp;</td><td><strong>Median UMI Counts per Cell</strong></td><td></td><td></td><td></td><td></td><td></td><td></td><td></td><td></td><td></td><td></td><td>...</td></tr><tr><td>&nbsp;</td><td>&nbsp;</td><td>&nbsp;</td><td>&nbsp;</td><td>&nbsp;</td><td>&nbsp;</td><td>&nbsp;</td><td><strong>MitoRiboRatio</strong></td><td>0.68301886</td><td>0.46422628</td><td>0.2777778</td><td>0.87461776</td><td>0.4587156</td><td>0.7017544</td><td>0.6631579</td><td>9.307693</td><td>10.771428</td><td>5.8378377</td><td>...</td></tr><tr><td>&nbsp;</td><td>&nbsp;</td><td>&nbsp;</td><td>&nbsp;</td><td>&nbsp;</td><td>&nbsp;</td><td>&nbsp;</td><td><strong>NGI_PlateWell</strong></td><td></td><td></td><td></td><td></td><td></td><td></td><td></td><td></td><td></td><td></td><td>...</td></tr><tr><td>&nbsp;</td><td>&nbsp;</td><td>&nbsp;</td><td>&nbsp;</td><td>&nbsp;</td><td>&nbsp;</td><td>&nbsp;</td><td><strong>Neurotransmitter</strong></td><td>GABA</td><td>GABA</td><td>GABA</td><td>GABA</td><td>GABA</td><td>GABA</td><td>GABA</td><td>GABA</td><td>GABA</td><td>GABA</td><td>...</td></tr><tr><td>&nbsp;</td><td>&nbsp;</td><td>&nbsp;</td><td>&nbsp;</td><td>&nbsp;</td><td>&nbsp;</td><td>&nbsp;</td><td><strong>NumPooledAnimals</strong></td><td>1.0</td><td>1.0</td><td>1.0</td><td>1.0</td><td>1.0</td><td>1.0</td><td>1.0</td><td>1.0</td><td>1.0</td><td>1.0</td><td>...</td></tr><tr><td>&nbsp;</td><td>&nbsp;</td><td>&nbsp;</td><td>&nbsp;</td><td>&nbsp;</td><td>&nbsp;</td><td>&nbsp;</td><td><strong>Num_Pooled_Animals</strong></td><td>1</td><td>1</td><td>1</td><td>1</td><td>1</td><td>1</td><td>1</td><td>1</td><td>1</td><td>1</td><td>...</td></tr><tr><td>&nbsp;</td><td>&nbsp;</td><td>&nbsp;</td><td>&nbsp;</td><td>&nbsp;</td><td>&nbsp;</td><td>&nbsp;</td><td><strong>Number of Reads</strong></td><td>157,934,760</td><td>394\"</td><td>106,021,130</td><td>106,021,130</td><td>157,934,760</td><td>157,934,760</td><td>106,021,130</td><td>106,021,130</td><td>106,021,130</td><td>106,021,130</td><td>...</td></tr><tr><td>&nbsp;</td><td>&nbsp;</td><td>&nbsp;</td><td>&nbsp;</td><td>&nbsp;</td><td>&nbsp;</td><td>&nbsp;</td><td><strong>OriginalClusters</strong></td><td>11</td><td>11</td><td>11</td><td>11</td><td>11</td><td>11</td><td>11</td><td>11</td><td>11</td><td>11</td><td>...</td></tr><tr><td>&nbsp;</td><td>&nbsp;</td><td>&nbsp;</td><td>&nbsp;</td><td>&nbsp;</td><td>&nbsp;</td><td>&nbsp;</td><td><strong>Outliers</strong></td><td>0</td><td>0</td><td>0</td><td>0</td><td>0</td><td>0</td><td>0</td><td>0</td><td>0</td><td>0</td><td>...</td></tr><tr><td>&nbsp;</td><td>&nbsp;</td><td>&nbsp;</td><td>&nbsp;</td><td>&nbsp;</td><td>&nbsp;</td><td>&nbsp;</td><td><strong>PCRCycles</strong></td><td>13.0</td><td>13.0</td><td>13.0</td><td>13.0</td><td>13.0</td><td>13.0</td><td>13.0</td><td>13.0</td><td>13.0</td><td>13.0</td><td>...</td></tr><tr><td>&nbsp;</td><td>&nbsp;</td><td>&nbsp;</td><td>&nbsp;</td><td>&nbsp;</td><td>&nbsp;</td><td>&nbsp;</td><td><strong>PCR_Cycles</strong></td><td>13</td><td>13</td><td>13</td><td>13</td><td>13</td><td>13</td><td>13</td><td>13</td><td>13</td><td>13</td><td>...</td></tr><tr><td>&nbsp;</td><td>&nbsp;</td><td>&nbsp;</td><td>&nbsp;</td><td>&nbsp;</td><td>&nbsp;</td><td>&nbsp;</td><td><strong>PassedQC</strong></td><td>OK</td><td>OK</td><td>OK</td><td>OK</td><td>OK</td><td>OK</td><td>OK</td><td>OK</td><td>OK</td><td>OK</td><td>...</td></tr><tr><td>&nbsp;</td><td>&nbsp;</td><td>&nbsp;</td><td>&nbsp;</td><td>&nbsp;</td><td>&nbsp;</td><td>&nbsp;</td><td><strong>PlugDate</strong></td><td>NaT</td><td>NaT</td><td>NaT</td><td>NaT</td><td>NaT</td><td>NaT</td><td>NaT</td><td>NaT</td><td>NaT</td><td>NaT</td><td>...</td></tr><tr><td>&nbsp;</td><td>&nbsp;</td><td>&nbsp;</td><td>&nbsp;</td><td>&nbsp;</td><td>&nbsp;</td><td>&nbsp;</td><td><strong>Plug_Date</strong></td><td></td><td></td><td></td><td></td><td></td><td></td><td></td><td></td><td></td><td></td><td>...</td></tr><tr><td>&nbsp;</td><td>&nbsp;</td><td>&nbsp;</td><td>&nbsp;</td><td>&nbsp;</td><td>&nbsp;</td><td>&nbsp;</td><td><strong>Probable_location</strong></td><td>Cerebellum, border of granular layer and molecular layer</td><td>Cerebellum, border of granular layer and molecular layer</td><td>Cerebellum, border of granular layer and molecular layer</td><td>Cerebellum, border of granular layer and molecular layer</td><td>Cerebellum, border of granular layer and molecular layer</td><td>Cerebellum, border of granular layer and molecular layer</td><td>Cerebellum, border of granular layer and molecular layer</td><td>Cerebellum, border of granular layer and molecular layer</td><td>Cerebellum, border of granular layer and molecular layer</td><td>Cerebellum, border of granular layer and molecular layer</td><td>...</td></tr><tr><td>&nbsp;</td><td>&nbsp;</td><td>&nbsp;</td><td>&nbsp;</td><td>&nbsp;</td><td>&nbsp;</td><td>&nbsp;</td><td><strong>Project</strong></td><td>Adolescent</td><td>Adolescent</td><td>Adolescent</td><td>Adolescent</td><td>Adolescent</td><td>Adolescent</td><td>Adolescent</td><td>Adolescent</td><td>Adolescent</td><td>Adolescent</td><td>...</td></tr><tr><td>&nbsp;</td><td>&nbsp;</td><td>&nbsp;</td><td>&nbsp;</td><td>&nbsp;</td><td>&nbsp;</td><td>&nbsp;</td><td><strong>Q30 Bases in Barcode</strong></td><td>63.4%</td><td>49.0%</td><td>54.9%</td><td>54.9%</td><td>63.4%</td><td>63.4%</td><td>54.9%</td><td>54.9%</td><td>54.9%</td><td>54.9%</td><td>...</td></tr><tr><td>&nbsp;</td><td>&nbsp;</td><td>&nbsp;</td><td>&nbsp;</td><td>&nbsp;</td><td>&nbsp;</td><td>&nbsp;</td><td><strong>Q30 Bases in RNA Read</strong></td><td></td><td></td><td></td><td></td><td></td><td></td><td></td><td></td><td></td><td></td><td>...</td></tr><tr><td>&nbsp;</td><td>&nbsp;</td><td>&nbsp;</td><td>&nbsp;</td><td>&nbsp;</td><td>&nbsp;</td><td>&nbsp;</td><td><strong>Q30 Bases in Sample Index</strong></td><td></td><td></td><td></td><td></td><td></td><td></td><td></td><td></td><td></td><td></td><td>...</td></tr><tr><td>&nbsp;</td><td>&nbsp;</td><td>&nbsp;</td><td>&nbsp;</td><td>&nbsp;</td><td>&nbsp;</td><td>&nbsp;</td><td><strong>Q30 Bases in UMI</strong></td><td>81.4%</td><td>4.5%</td><td>71.7%</td><td>71.7%</td><td>81.4%</td><td>81.4%</td><td>71.7%</td><td>71.7%</td><td>71.7%</td><td>71.7%</td><td>...</td></tr><tr><td>&nbsp;</td><td>&nbsp;</td><td>&nbsp;</td><td>&nbsp;</td><td>&nbsp;</td><td>&nbsp;</td><td>&nbsp;</td><td><strong>Reads Mapped Confidently to Exonic Regions</strong></td><td>52.1%</td><td>484</td><td>48.2%</td><td>48.2%</td><td>52.1%</td><td>52.1%</td><td>48.2%</td><td>48.2%</td><td>48.2%</td><td>48.2%</td><td>...</td></tr><tr><td>&nbsp;</td><td>&nbsp;</td><td>&nbsp;</td><td>&nbsp;</td><td>&nbsp;</td><td>&nbsp;</td><td>&nbsp;</td><td><strong>Reads Mapped Confidently to Intergenic Regions</strong></td><td>4.5%</td><td>90.2%</td><td>4.7%</td><td>4.7%</td><td>4.5%</td><td>4.5%</td><td>4.7%</td><td>4.7%</td><td>4.7%</td><td>4.7%</td><td>...</td></tr><tr><td>&nbsp;</td><td>&nbsp;</td><td>&nbsp;</td><td>&nbsp;</td><td>&nbsp;</td><td>&nbsp;</td><td>&nbsp;</td><td><strong>Reads Mapped Confidently to Intronic Regions</strong></td><td>27.0%</td><td>448\"</td><td>26.4%</td><td>26.4%</td><td>27.0%</td><td>27.0%</td><td>26.4%</td><td>26.4%</td><td>26.4%</td><td>26.4%</td><td>...</td></tr><tr><td>&nbsp;</td><td>&nbsp;</td><td>&nbsp;</td><td>&nbsp;</td><td>&nbsp;</td><td>&nbsp;</td><td>&nbsp;</td><td><strong>Reads Mapped Confidently to Transcriptome</strong></td><td>48.6%</td><td>\"187</td><td>44.6%</td><td>44.6%</td><td>48.6%</td><td>48.6%</td><td>44.6%</td><td>44.6%</td><td>44.6%</td><td>44.6%</td><td>...</td></tr><tr><td>&nbsp;</td><td>&nbsp;</td><td>&nbsp;</td><td>&nbsp;</td><td>&nbsp;</td><td>&nbsp;</td><td>&nbsp;</td><td><strong>Region</strong></td><td>Cerebellum</td><td>Cerebellum</td><td>Cerebellum</td><td>Cerebellum</td><td>Cerebellum</td><td>Cerebellum</td><td>Cerebellum</td><td>Cerebellum</td><td>Cerebellum</td><td>Cerebellum</td><td>...</td></tr><tr><td>&nbsp;</td><td>&nbsp;</td><td>&nbsp;</td><td>&nbsp;</td><td>&nbsp;</td><td>&nbsp;</td><td>&nbsp;</td><td><strong>SampleID</strong></td><td>10X51_2</td><td>10X26_1</td><td>10X51_1</td><td>10X51_1</td><td>10X51_2</td><td>10X51_2</td><td>10X51_1</td><td>10X51_1</td><td>10X51_1</td><td>10X51_1</td><td>...</td></tr><tr><td>&nbsp;</td><td>&nbsp;</td><td>&nbsp;</td><td>&nbsp;</td><td>&nbsp;</td><td>&nbsp;</td><td>&nbsp;</td><td><strong>SampleIndex</strong></td><td>SI-3A-B1</td><td>SI-3A-G5</td><td>SI-3A-A1</td><td>SI-3A-A1</td><td>SI-3A-B1</td><td>SI-3A-B1</td><td>SI-3A-A1</td><td>SI-3A-A1</td><td>SI-3A-A1</td><td>SI-3A-A1</td><td>...</td></tr><tr><td>&nbsp;</td><td>&nbsp;</td><td>&nbsp;</td><td>&nbsp;</td><td>&nbsp;</td><td>&nbsp;</td><td>&nbsp;</td><td><strong>SampleOK</strong></td><td></td><td></td><td></td><td></td><td></td><td></td><td></td><td></td><td></td><td></td><td>...</td></tr><tr><td>&nbsp;</td><td>&nbsp;</td><td>&nbsp;</td><td>&nbsp;</td><td>&nbsp;</td><td>&nbsp;</td><td>&nbsp;</td><td><strong>Sample_Index</strong></td><td></td><td>SI-3A-G5</td><td></td><td></td><td></td><td></td><td></td><td></td><td></td><td></td><td>...</td></tr><tr><td>&nbsp;</td><td>&nbsp;</td><td>&nbsp;</td><td>&nbsp;</td><td>&nbsp;</td><td>&nbsp;</td><td>&nbsp;</td><td><strong>SeqComment</strong></td><td>nan</td><td>nan</td><td>nan</td><td>nan</td><td>nan</td><td>nan</td><td>nan</td><td>nan</td><td>nan</td><td>nan</td><td>...</td></tr><tr><td>&nbsp;</td><td>&nbsp;</td><td>&nbsp;</td><td>&nbsp;</td><td>&nbsp;</td><td>&nbsp;</td><td>&nbsp;</td><td><strong>SeqLibDate</strong></td><td>NaT</td><td>NaT</td><td>NaT</td><td>NaT</td><td>NaT</td><td>NaT</td><td>NaT</td><td>NaT</td><td>NaT</td><td>NaT</td><td>...</td></tr><tr><td>&nbsp;</td><td>&nbsp;</td><td>&nbsp;</td><td>&nbsp;</td><td>&nbsp;</td><td>&nbsp;</td><td>&nbsp;</td><td><strong>SeqLibOk</strong></td><td>nan</td><td>nan</td><td>nan</td><td>nan</td><td>nan</td><td>nan</td><td>nan</td><td>nan</td><td>nan</td><td>nan</td><td>...</td></tr><tr><td>&nbsp;</td><td>&nbsp;</td><td>&nbsp;</td><td>&nbsp;</td><td>&nbsp;</td><td>&nbsp;</td><td>&nbsp;</td><td><strong>Seq_Comment</strong></td><td></td><td></td><td></td><td></td><td></td><td></td><td></td><td></td><td></td><td></td><td>...</td></tr><tr><td>&nbsp;</td><td>&nbsp;</td><td>&nbsp;</td><td>&nbsp;</td><td>&nbsp;</td><td>&nbsp;</td><td>&nbsp;</td><td><strong>Seq_Lib_Date</strong></td><td></td><td></td><td></td><td></td><td></td><td></td><td></td><td></td><td></td><td></td><td>...</td></tr><tr><td>&nbsp;</td><td>&nbsp;</td><td>&nbsp;</td><td>&nbsp;</td><td>&nbsp;</td><td>&nbsp;</td><td>&nbsp;</td><td><strong>Seq_Lib_Ok</strong></td><td></td><td></td><td></td><td></td><td></td><td></td><td></td><td></td><td></td><td></td><td>...</td></tr><tr><td>&nbsp;</td><td>&nbsp;</td><td>&nbsp;</td><td>&nbsp;</td><td>&nbsp;</td><td>&nbsp;</td><td>&nbsp;</td><td><strong>Sequencing Saturation</strong></td><td></td><td></td><td></td><td></td><td></td><td></td><td></td><td></td><td></td><td></td><td>...</td></tr><tr><td>&nbsp;</td><td>&nbsp;</td><td>&nbsp;</td><td>&nbsp;</td><td>&nbsp;</td><td>&nbsp;</td><td>&nbsp;</td><td><strong>Serial_Number</strong></td><td>195</td><td>90</td><td>194</td><td>194</td><td>195</td><td>195</td><td>194</td><td>194</td><td>194</td><td>194</td><td>...</td></tr><tr><td>&nbsp;</td><td>&nbsp;</td><td>&nbsp;</td><td>&nbsp;</td><td>&nbsp;</td><td>&nbsp;</td><td>&nbsp;</td><td><strong>Sex</strong></td><td>1F</td><td>F</td><td>1F</td><td>1F</td><td>1F</td><td>1F</td><td>1F</td><td>1F</td><td>1F</td><td>1F</td><td>...</td></tr><tr><td>&nbsp;</td><td>&nbsp;</td><td>&nbsp;</td><td>&nbsp;</td><td>&nbsp;</td><td>&nbsp;</td><td>&nbsp;</td><td><strong>Species</strong></td><td>Mm</td><td>Mm</td><td>Mm</td><td>Mm</td><td>Mm</td><td>Mm</td><td>Mm</td><td>Mm</td><td>Mm</td><td>Mm</td><td>...</td></tr><tr><td>&nbsp;</td><td>&nbsp;</td><td>&nbsp;</td><td>&nbsp;</td><td>&nbsp;</td><td>&nbsp;</td><td>&nbsp;</td><td><strong>Strain</strong></td><td>CD-1</td><td>CD-1</td><td>CD-1</td><td>CD-1</td><td>CD-1</td><td>CD-1</td><td>CD-1</td><td>CD-1</td><td>CD-1</td><td>CD-1</td><td>...</td></tr><tr><td>&nbsp;</td><td>&nbsp;</td><td>&nbsp;</td><td>&nbsp;</td><td>&nbsp;</td><td>&nbsp;</td><td>&nbsp;</td><td><strong>Subclass</strong></td><td>Neurons</td><td>Neurons</td><td>Neurons</td><td>Neurons</td><td>Neurons</td><td>Neurons</td><td>Neurons</td><td>Neurons</td><td>Neurons</td><td>Neurons</td><td>...</td></tr><tr><td>&nbsp;</td><td>&nbsp;</td><td>&nbsp;</td><td>&nbsp;</td><td>&nbsp;</td><td>&nbsp;</td><td>&nbsp;</td><td><strong>TargetNumCells</strong></td><td>5000</td><td>3500</td><td>5000</td><td>5000</td><td>5000</td><td>5000</td><td>5000</td><td>5000</td><td>5000</td><td>5000</td><td>...</td></tr><tr><td>&nbsp;</td><td>&nbsp;</td><td>&nbsp;</td><td>&nbsp;</td><td>&nbsp;</td><td>&nbsp;</td><td>&nbsp;</td><td><strong>Target_Num_Cells</strong></td><td>5000</td><td>3500</td><td>5000</td><td>5000</td><td>5000</td><td>5000</td><td>5000</td><td>5000</td><td>5000</td><td>5000</td><td>...</td></tr><tr><td>&nbsp;</td><td>&nbsp;</td><td>&nbsp;</td><td>&nbsp;</td><td>&nbsp;</td><td>&nbsp;</td><td>&nbsp;</td><td><strong>TaxonomyRank1</strong></td><td>Neurons</td><td>Neurons</td><td>Neurons</td><td>Neurons</td><td>Neurons</td><td>Neurons</td><td>Neurons</td><td>Neurons</td><td>Neurons</td><td>Neurons</td><td>...</td></tr><tr><td>&nbsp;</td><td>&nbsp;</td><td>&nbsp;</td><td>&nbsp;</td><td>&nbsp;</td><td>&nbsp;</td><td>&nbsp;</td><td><strong>TaxonomyRank2</strong></td><td>CNS neurons</td><td>CNS neurons</td><td>CNS neurons</td><td>CNS neurons</td><td>CNS neurons</td><td>CNS neurons</td><td>CNS neurons</td><td>CNS neurons</td><td>CNS neurons</td><td>CNS neurons</td><td>...</td></tr><tr><td>&nbsp;</td><td>&nbsp;</td><td>&nbsp;</td><td>&nbsp;</td><td>&nbsp;</td><td>&nbsp;</td><td>&nbsp;</td><td><strong>TaxonomyRank3</strong></td><td>Cerebellum neurons</td><td>Cerebellum neurons</td><td>Cerebellum neurons</td><td>Cerebellum neurons</td><td>Cerebellum neurons</td><td>Cerebellum neurons</td><td>Cerebellum neurons</td><td>Cerebellum neurons</td><td>Cerebellum neurons</td><td>Cerebellum neurons</td><td>...</td></tr><tr><td>&nbsp;</td><td>&nbsp;</td><td>&nbsp;</td><td>&nbsp;</td><td>&nbsp;</td><td>&nbsp;</td><td>&nbsp;</td><td><strong>TaxonomyRank4</strong></td><td>Cerebellum neurons</td><td>Cerebellum neurons</td><td>Cerebellum neurons</td><td>Cerebellum neurons</td><td>Cerebellum neurons</td><td>Cerebellum neurons</td><td>Cerebellum neurons</td><td>Cerebellum neurons</td><td>Cerebellum neurons</td><td>Cerebellum neurons</td><td>...</td></tr><tr><td>&nbsp;</td><td>&nbsp;</td><td>&nbsp;</td><td>&nbsp;</td><td>&nbsp;</td><td>&nbsp;</td><td>&nbsp;</td><td><strong>TaxonomySymbol</strong></td><td>Cbnn</td><td>Cbnn</td><td>Cbnn</td><td>Cbnn</td><td>Cbnn</td><td>Cbnn</td><td>Cbnn</td><td>Cbnn</td><td>Cbnn</td><td>Cbnn</td><td>...</td></tr><tr><td>&nbsp;</td><td>&nbsp;</td><td>&nbsp;</td><td>&nbsp;</td><td>&nbsp;</td><td>&nbsp;</td><td>&nbsp;</td><td><strong>Taxonomy_group</strong></td><td>Cerebellum neurons</td><td>Cerebellum neurons</td><td>Cerebellum neurons</td><td>Cerebellum neurons</td><td>Cerebellum neurons</td><td>Cerebellum neurons</td><td>Cerebellum neurons</td><td>Cerebellum neurons</td><td>Cerebellum neurons</td><td>Cerebellum neurons</td><td>...</td></tr><tr><td>&nbsp;</td><td>&nbsp;</td><td>&nbsp;</td><td>&nbsp;</td><td>&nbsp;</td><td>&nbsp;</td><td>&nbsp;</td><td><strong>TimepointPool</strong></td><td>nan</td><td>nan</td><td>nan</td><td>nan</td><td>nan</td><td>nan</td><td>nan</td><td>nan</td><td>nan</td><td>nan</td><td>...</td></tr><tr><td>&nbsp;</td><td>&nbsp;</td><td>&nbsp;</td><td>&nbsp;</td><td>&nbsp;</td><td>&nbsp;</td><td>&nbsp;</td><td><strong>Tissue</strong></td><td>CB</td><td>CB</td><td>CB</td><td>CB</td><td>CB</td><td>CB</td><td>CB</td><td>CB</td><td>CB</td><td>CB</td><td>...</td></tr><tr><td>&nbsp;</td><td>&nbsp;</td><td>&nbsp;</td><td>&nbsp;</td><td>&nbsp;</td><td>&nbsp;</td><td>&nbsp;</td><td><strong>Total Genes Detected</strong></td><td></td><td></td><td></td><td></td><td></td><td></td><td></td><td></td><td></td><td></td><td>...</td></tr><tr><td>&nbsp;</td><td>&nbsp;</td><td>&nbsp;</td><td>&nbsp;</td><td>&nbsp;</td><td>&nbsp;</td><td>&nbsp;</td><td><strong>Transcriptome</strong></td><td>mm10</td><td>mm10</td><td>mm10</td><td>mm10</td><td>mm10</td><td>mm10</td><td>mm10</td><td>mm10</td><td>mm10</td><td>mm10</td><td>...</td></tr><tr><td>&nbsp;</td><td>&nbsp;</td><td>&nbsp;</td><td>&nbsp;</td><td>&nbsp;</td><td>&nbsp;</td><td>&nbsp;</td><td><strong>Valid Barcodes</strong></td><td>94.0%</td><td>549</td><td>81.0%</td><td>81.0%</td><td>94.0%</td><td>94.0%</td><td>81.0%</td><td>81.0%</td><td>81.0%</td><td>81.0%</td><td>...</td></tr><tr><td>&nbsp;</td><td>&nbsp;</td><td>&nbsp;</td><td>&nbsp;</td><td>&nbsp;</td><td>&nbsp;</td><td>&nbsp;</td><td><strong>_KMeans_10</strong></td><td>3.0</td><td>7.0</td><td>1.0</td><td>1.0</td><td>3.0</td><td>3.0</td><td>1.0</td><td>1.0</td><td>1.0</td><td>1.0</td><td>...</td></tr><tr><td>&nbsp;</td><td>&nbsp;</td><td>&nbsp;</td><td>&nbsp;</td><td>&nbsp;</td><td>&nbsp;</td><td>&nbsp;</td><td><strong>_LogCV</strong></td><td>3.4094758521237654</td><td>3.6564164503427357</td><td>5.880377473501592</td><td>3.389774327017351</td><td>3.39728357807508</td><td>3.7420237225048614</td><td>3.7117117757370206</td><td>3.741471802567963</td><td>3.451114665556064</td><td>3.3270238764048603</td><td>...</td></tr><tr><td>&nbsp;</td><td>&nbsp;</td><td>&nbsp;</td><td>&nbsp;</td><td>&nbsp;</td><td>&nbsp;</td><td>&nbsp;</td><td><strong>_LogMean</strong></td><td>-1.5579582121916937</td><td>-0.7053496660140512</td><td>-4.800056327155036</td><td>-0.9428180167739009</td><td>-3.212703295369613</td><td>-3.634124401054322</td><td>-1.1507554594305707</td><td>-2.8616441319079495</td><td>-2.031779878844624</td><td>-2.511528879034463</td><td>...</td></tr><tr><td>&nbsp;</td><td>&nbsp;</td><td>&nbsp;</td><td>&nbsp;</td><td>&nbsp;</td><td>&nbsp;</td><td>&nbsp;</td><td><strong>_NGenes</strong></td><td>2998.0</td><td>4480.0</td><td>408.0</td><td>3483.0</td><td>1390.0</td><td>1169.0</td><td>3245.0</td><td>1082.0</td><td>1836.0</td><td>1557.0</td><td>...</td></tr><tr><td>&nbsp;</td><td>&nbsp;</td><td>&nbsp;</td><td>&nbsp;</td><td>&nbsp;</td><td>&nbsp;</td><td>&nbsp;</td><td><strong>_PC1</strong></td><td>0.0</td><td>0.0</td><td>0.0</td><td>0.0</td><td>0.0</td><td>0.0</td><td>0.0</td><td>0.0</td><td>0.0</td><td>0.0</td><td>...</td></tr><tr><td>&nbsp;</td><td>&nbsp;</td><td>&nbsp;</td><td>&nbsp;</td><td>&nbsp;</td><td>&nbsp;</td><td>&nbsp;</td><td><strong>_PC2</strong></td><td>0.0</td><td>0.0</td><td>0.0</td><td>0.0</td><td>0.0</td><td>0.0</td><td>0.0</td><td>0.0</td><td>0.0</td><td>0.0</td><td>...</td></tr><tr><td>&nbsp;</td><td>&nbsp;</td><td>&nbsp;</td><td>&nbsp;</td><td>&nbsp;</td><td>&nbsp;</td><td>&nbsp;</td><td><strong>_Total</strong></td><td>9509.0</td><td>17171.0</td><td>1005.0</td><td>14565.0</td><td>3020.0</td><td>2255.0</td><td>12610.0</td><td>3852.0</td><td>6847.0</td><td>4910.0</td><td>...</td></tr><tr><td>&nbsp;</td><td>&nbsp;</td><td>&nbsp;</td><td>&nbsp;</td><td>&nbsp;</td><td>&nbsp;</td><td>&nbsp;</td><td><strong>_Valid</strong></td><td>1</td><td>1</td><td>1</td><td>1</td><td>1</td><td>1</td><td>1</td><td>1</td><td>1</td><td>1</td><td>...</td></tr><tr><td>&nbsp;</td><td>&nbsp;</td><td>&nbsp;</td><td>&nbsp;</td><td>&nbsp;</td><td>&nbsp;</td><td>&nbsp;</td><td><strong>_X</strong></td><td>17.761940964132528</td><td>17.697574727187675</td><td>17.289688182210966</td><td>17.756922974150125</td><td>17.83975322790222</td><td>17.765729658869915</td><td>17.71394760020313</td><td>18.641335471218614</td><td>18.57702418703217</td><td>18.362923396531688</td><td>...</td></tr><tr><td>&nbsp;</td><td>&nbsp;</td><td>&nbsp;</td><td>&nbsp;</td><td>&nbsp;</td><td>&nbsp;</td><td>&nbsp;</td><td><strong>_Y</strong></td><td>-15.33156489979051</td><td>-15.347386724195642</td><td>-9.06928788393266</td><td>-15.392821063132532</td><td>-15.404433177738321</td><td>-15.274062618895561</td><td>-15.363213207650793</td><td>-15.186959505878825</td><td>-15.125438055173918</td><td>-15.241309774782884</td><td>...</td></tr><tr><td>&nbsp;</td><td>&nbsp;</td><td>&nbsp;</td><td>&nbsp;</td><td>&nbsp;</td><td>&nbsp;</td><td>&nbsp;</td><td><strong>_tSNE1</strong></td><td>38.71492221945343</td><td>-32.907361428019456</td><td>6.294675156562069</td><td>4.000878389221518</td><td>38.682971118497925</td><td>38.65150645971829</td><td>4.007152991186392</td><td>4.002524375470984</td><td>3.999925280353128</td><td>4.001869524167916</td><td>...</td></tr><tr><td>&nbsp;</td><td>&nbsp;</td><td>&nbsp;</td><td>&nbsp;</td><td>&nbsp;</td><td>&nbsp;</td><td>&nbsp;</td><td><strong>_tSNE2</strong></td><td>17.502998436716506</td><td>21.946362054280456</td><td>43.049654169607024</td><td>47.78533877308383</td><td>17.197331331916885</td><td>17.39872764016215</td><td>47.725520067459215</td><td>47.76985300060827</td><td>47.79669053462511</td><td>47.776093784710774</td><td>...</td></tr><tr><td>&nbsp;</td><td>&nbsp;</td><td>&nbsp;</td><td>&nbsp;</td><td>&nbsp;</td><td>&nbsp;</td><td>&nbsp;</td><td><strong>cDNAConcNanogramPerMicroliter</strong></td><td>3.8</td><td>2.3</td><td>2.0</td><td>2.0</td><td>3.8</td><td>3.8</td><td>2.0</td><td>2.0</td><td>2.0</td><td>2.0</td><td>...</td></tr><tr><td>&nbsp;</td><td>&nbsp;</td><td>&nbsp;</td><td>&nbsp;</td><td>&nbsp;</td><td>&nbsp;</td><td>&nbsp;</td><td><strong>cDNALibOk</strong></td><td>Y</td><td>nan</td><td>Y</td><td>Y</td><td>Y</td><td>Y</td><td>Y</td><td>Y</td><td>Y</td><td>Y</td><td>...</td></tr><tr><td>&nbsp;</td><td>&nbsp;</td><td>&nbsp;</td><td>&nbsp;</td><td>&nbsp;</td><td>&nbsp;</td><td>&nbsp;</td><td><strong>cDNA_Lib_Ok</strong></td><td>Y</td><td></td><td>Y</td><td>Y</td><td>Y</td><td>Y</td><td>Y</td><td>Y</td><td>Y</td><td>Y</td><td>...</td></tr><tr><td>&nbsp;</td><td>&nbsp;</td><td>&nbsp;</td><td>&nbsp;</td><td>&nbsp;</td><td>&nbsp;</td><td>&nbsp;</td><td><strong>ngperul_cDNA</strong></td><td>3.8</td><td>2.3</td><td>2.0</td><td>2.0</td><td>3.8</td><td>3.8</td><td>2.0</td><td>2.0</td><td>2.0</td><td>2.0</td><td>...</td></tr><tr><td><strong>Accession</strong></td><td><strong>Gene</strong></td><td><strong>_LogCV</strong></td><td><strong>_LogMean</strong></td><td><strong>_Selected</strong></td><td><strong>_Total</strong></td><td><strong>_Valid</strong></td><td>&nbsp;</td><td>&nbsp;</td><td>&nbsp;</td><td>&nbsp;</td><td>&nbsp;</td><td>&nbsp;</td><td>&nbsp;</td><td>&nbsp;</td><td>&nbsp;</td><td>&nbsp;</td><td>&nbsp;</td><td>...</td></tr><tr><td>ENSMUSG00000017417</td><td>Plxdc1</td><td>2.6460677096276286</td><td>-4.170952157177866</td><td>0</td><td>78.0</td><td>1</td><td>&nbsp;</td><td>3.0</td><td>9.0</td><td>0.0</td><td>6.0</td><td>1.0</td><td>2.0</td><td>8.0</td><td>10.0</td><td>18.0</td><td>10.0</td><td>...</td></tr><tr><td>ENSMUSG00000030102</td><td>Itpr1</td><td>2.362363536410668</td><td>-4.456354403267686</td><td>1</td><td>64.0</td><td>1</td><td>&nbsp;</td><td>62.0</td><td>114.0</td><td>0.0</td><td>89.0</td><td>23.0</td><td>9.0</td><td>99.0</td><td>50.0</td><td>94.0</td><td>71.0</td><td>...</td></tr><tr><td>ENSMUSG00000001435</td><td>Col18a1</td><td>1.9526262735193154</td><td>-2.8789256437998025</td><td>1</td><td>191.0</td><td>1</td><td>&nbsp;</td><td>6.0</td><td>8.0</td><td>3.0</td><td>11.0</td><td>4.0</td><td>1.0</td><td>1.0</td><td>16.0</td><td>7.0</td><td>17.0</td><td>...</td></tr><tr><td>ENSMUSG00000028222</td><td>Calb1</td><td>3.0704424275393483</td><td>-3.1895679070091254</td><td>0</td><td>154.0</td><td>1</td><td>&nbsp;</td><td>65.0</td><td>107.0</td><td>2.0</td><td>140.0</td><td>27.0</td><td>23.0</td><td>82.0</td><td>0.0</td><td>17.0</td><td>10.0</td><td>...</td></tr><tr><td>ENSMUSG00000041261</td><td>Car8</td><td>2.2435618914924866</td><td>-3.1076262627895948</td><td>1</td><td>163.0</td><td>1</td><td>&nbsp;</td><td>71.0</td><td>92.0</td><td>2.0</td><td>131.0</td><td>27.0</td><td>24.0</td><td>76.0</td><td>11.0</td><td>4.0</td><td>16.0</td><td>...</td></tr><tr><td>ENSMUSG00000039662</td><td>Icmt</td><td>0.7491656146836594</td><td>0.00102654310562098</td><td>1</td><td>1406.0</td><td>1</td><td>&nbsp;</td><td>22.0</td><td>23.0</td><td>0.0</td><td>58.0</td><td>11.0</td><td>5.0</td><td>49.0</td><td>19.0</td><td>81.0</td><td>32.0</td><td>...</td></tr><tr><td>ENSMUSG00000002930</td><td>Ppp1r17</td><td>0.0</td><td>0.0</td><td>0</td><td>0.0</td><td>1</td><td>&nbsp;</td><td>23.0</td><td>30.0</td><td>1.0</td><td>42.0</td><td>7.0</td><td>8.0</td><td>25.0</td><td>0.0</td><td>2.0</td><td>4.0</td><td>...</td></tr><tr><td>ENSMUSG00000005357</td><td>Slc1a6</td><td>2.019647862420646</td><td>-3.358322286719863</td><td>1</td><td>137.0</td><td>1</td><td>&nbsp;</td><td>9.0</td><td>21.0</td><td>8.0</td><td>10.0</td><td>1.0</td><td>0.0</td><td>24.0</td><td>91.0</td><td>58.0</td><td>15.0</td><td>...</td></tr><tr><td>ENSMUSG00000020788</td><td>Atp2a3</td><td>3.1064633217648017</td><td>-5.598373461030455</td><td>0</td><td>29.0</td><td>1</td><td>&nbsp;</td><td>11.0</td><td>11.0</td><td>1.0</td><td>12.0</td><td>3.0</td><td>4.0</td><td>4.0</td><td>9.0</td><td>8.0</td><td>7.0</td><td>...</td></tr><tr><td>ENSMUSG00000025739</td><td>Gng13</td><td>2.9854133574201</td><td>-5.064037008580865</td><td>0</td><td>42.0</td><td>1</td><td>&nbsp;</td><td>43.0</td><td>111.0</td><td>0.0</td><td>47.0</td><td>6.0</td><td>7.0</td><td>64.0</td><td>8.0</td><td>7.0</td><td>6.0</td><td>...</td></tr><tr><td>...</td><td>...</td><td>...</td><td>...</td><td>...</td><td>...</td><td>...</td><td>...</td><td>...</td><td>...</td><td>...</td><td>...</td><td>...</td><td>...</td><td>...</td><td>...</td><td>...</td><td>...</td><td>...</td></tr></table>"
      ],
      "text/plain": [
       "<loompy.loompy.LoomConnection at 0xb15525c50>"
      ]
     },
     "execution_count": 16,
     "metadata": {},
     "output_type": "execute_result"
    }
   ],
   "source": [
    "import loompy\n",
    "ds = loompy.connect(\"l6_r3_cerebellum_neurons.loom\")\n",
    "ds"
   ]
  },
  {
   "cell_type": "code",
   "execution_count": 22,
   "metadata": {},
   "outputs": [
    {
     "data": {
      "text/plain": [
       "array([[  3.,   9.,   0., ...,   0.,   0.,   0.],\n",
       "       [ 62., 114.,   0., ...,   0.,   0.,   0.],\n",
       "       [  6.,   8.,   3., ...,   0.,   0.,   0.],\n",
       "       ...,\n",
       "       [  0.,   0.,   0., ...,   0.,   0.,   0.],\n",
       "       [  0.,   0.,   0., ...,   0.,   0.,   0.],\n",
       "       [  0.,   0.,   0., ...,   0.,   0.,   0.]], dtype=float32)"
      ]
     },
     "execution_count": 22,
     "metadata": {},
     "output_type": "execute_result"
    }
   ],
   "source": [
    "ds[ds.ca.ClusterName == \"CBPC\", :]"
   ]
  },
  {
   "cell_type": "code",
   "execution_count": 25,
   "metadata": {},
   "outputs": [
    {
     "data": {
      "text/plain": [
       "array([[ 62., 114.,   0., ...,   0.,   0.,   0.]], dtype=float32)"
      ]
     },
     "execution_count": 25,
     "metadata": {},
     "output_type": "execute_result"
    }
   ],
   "source": [
    "ds[ds.ra.Gene == \"Itpr1\", :]"
   ]
  },
  {
   "cell_type": "code",
   "execution_count": null,
   "metadata": {},
   "outputs": [],
   "source": []
  },
  {
   "cell_type": "code",
   "execution_count": null,
   "metadata": {},
   "outputs": [],
   "source": []
  },
  {
   "cell_type": "code",
   "execution_count": 23,
   "metadata": {},
   "outputs": [
    {
     "data": {
      "text/plain": [
       "(84, 5292)"
      ]
     },
     "execution_count": 23,
     "metadata": {},
     "output_type": "execute_result"
    }
   ],
   "source": [
    "ds[ds.ca.ClusterName == \"CBPC\", :].shape"
   ]
  },
  {
   "cell_type": "code",
   "execution_count": null,
   "metadata": {},
   "outputs": [],
   "source": []
  },
  {
   "cell_type": "code",
   "execution_count": 21,
   "metadata": {},
   "outputs": [
    {
     "data": {
      "text/plain": [
       "array([0., 0., 0., ..., 0., 0., 0.], dtype=float32)"
      ]
     },
     "execution_count": 21,
     "metadata": {},
     "output_type": "execute_result"
    }
   ],
   "source": [
    "ds[:, 99] "
   ]
  },
  {
   "cell_type": "code",
   "execution_count": 46,
   "metadata": {},
   "outputs": [
    {
     "name": "stdout",
     "output_type": "stream",
     "text": [
      "Requirement already satisfied: scanpy in /anaconda3/lib/python3.6/site-packages (1.3.7)\n",
      "Requirement already satisfied: natsort in /anaconda3/lib/python3.6/site-packages (from scanpy) (5.5.0)\n",
      "Requirement already satisfied: statsmodels in /anaconda3/lib/python3.6/site-packages (from scanpy) (0.9.0)\n",
      "Requirement already satisfied: scikit-learn>=0.19.1 in /anaconda3/lib/python3.6/site-packages (from scanpy) (0.20.2)\n",
      "Requirement already satisfied: h5py in /anaconda3/lib/python3.6/site-packages (from scanpy) (2.9.0)\n",
      "Requirement already satisfied: seaborn in /anaconda3/lib/python3.6/site-packages (from scanpy) (0.9.0)\n",
      "Requirement already satisfied: scipy in /anaconda3/lib/python3.6/site-packages (from scanpy) (1.2.0)\n",
      "Requirement already satisfied: pandas>=0.21 in /anaconda3/lib/python3.6/site-packages (from scanpy) (0.24.0)\n",
      "Requirement already satisfied: anndata>=0.6.15 in /anaconda3/lib/python3.6/site-packages (from scanpy) (0.6.18)\n",
      "Requirement already satisfied: tables in /anaconda3/lib/python3.6/site-packages (from scanpy) (3.4.4)\n",
      "Requirement already satisfied: joblib in /anaconda3/lib/python3.6/site-packages (from scanpy) (0.13.1)\n",
      "Requirement already satisfied: matplotlib>=2.2 in /anaconda3/lib/python3.6/site-packages (from scanpy) (3.0.0)\n",
      "Requirement already satisfied: numba>=0.40.0 in /anaconda3/lib/python3.6/site-packages (from scanpy) (0.42.0)\n",
      "Requirement already satisfied: networkx in /anaconda3/lib/python3.6/site-packages (from scanpy) (2.2)\n",
      "Requirement already satisfied: numpy>=1.8.2 in /anaconda3/lib/python3.6/site-packages (from scikit-learn>=0.19.1->scanpy) (1.15.4)\n",
      "Requirement already satisfied: six in /anaconda3/lib/python3.6/site-packages (from h5py->scanpy) (1.12.0)\n",
      "Requirement already satisfied: python-dateutil>=2.5.0 in /anaconda3/lib/python3.6/site-packages (from pandas>=0.21->scanpy) (2.7.5)\n",
      "Requirement already satisfied: pytz>=2011k in /anaconda3/lib/python3.6/site-packages (from pandas>=0.21->scanpy) (2018.9)\n",
      "Requirement already satisfied: numexpr>=2.5.2 in /anaconda3/lib/python3.6/site-packages (from tables->scanpy) (2.6.9)\n",
      "Requirement already satisfied: cycler>=0.10 in /anaconda3/lib/python3.6/site-packages (from matplotlib>=2.2->scanpy) (0.10.0)\n",
      "Requirement already satisfied: kiwisolver>=1.0.1 in /anaconda3/lib/python3.6/site-packages (from matplotlib>=2.2->scanpy) (1.0.1)\n",
      "Requirement already satisfied: pyparsing!=2.0.4,!=2.1.2,!=2.1.6,>=2.0.1 in /anaconda3/lib/python3.6/site-packages (from matplotlib>=2.2->scanpy) (2.3.1)\n",
      "Requirement already satisfied: llvmlite>=0.27.0dev0 in /anaconda3/lib/python3.6/site-packages (from numba>=0.40.0->scanpy) (0.27.0)\n",
      "Requirement already satisfied: decorator>=4.3.0 in /anaconda3/lib/python3.6/site-packages (from networkx->scanpy) (4.3.0)\n",
      "Requirement already satisfied: setuptools in /anaconda3/lib/python3.6/site-packages (from kiwisolver>=1.0.1->matplotlib>=2.2->scanpy) (40.6.3)\n"
     ]
    }
   ],
   "source": [
    "!pip install scanpy"
   ]
  },
  {
   "cell_type": "code",
   "execution_count": 47,
   "metadata": {},
   "outputs": [
    {
     "ename": "ModuleNotFoundError",
     "evalue": "No module named 'scanpy'",
     "output_type": "error",
     "traceback": [
      "\u001b[0;31m---------------------------------------------------------------------------\u001b[0m",
      "\u001b[0;31mModuleNotFoundError\u001b[0m                       Traceback (most recent call last)",
      "\u001b[0;32m<ipython-input-47-472952765188>\u001b[0m in \u001b[0;36m<module>\u001b[0;34m()\u001b[0m\n\u001b[1;32m      3\u001b[0m \u001b[0;32mimport\u001b[0m \u001b[0mnumpy\u001b[0m \u001b[0;32mas\u001b[0m \u001b[0mnp\u001b[0m\u001b[0;34m\u001b[0m\u001b[0m\n\u001b[1;32m      4\u001b[0m \u001b[0;32mimport\u001b[0m \u001b[0mpandas\u001b[0m \u001b[0;32mas\u001b[0m \u001b[0mpd\u001b[0m\u001b[0;34m\u001b[0m\u001b[0m\n\u001b[0;32m----> 5\u001b[0;31m \u001b[0;32mimport\u001b[0m \u001b[0mscanpy\u001b[0m \u001b[0;32mas\u001b[0m \u001b[0msc\u001b[0m\u001b[0;34m\u001b[0m\u001b[0m\n\u001b[0m",
      "\u001b[0;31mModuleNotFoundError\u001b[0m: No module named 'scanpy'"
     ]
    }
   ],
   "source": [
    "#### scanpy\n",
    "\n",
    "import numpy as np\n",
    "import pandas as pd\n",
    "import scanpy as sc"
   ]
  },
  {
   "cell_type": "code",
   "execution_count": null,
   "metadata": {},
   "outputs": [],
   "source": []
  },
  {
   "cell_type": "code",
   "execution_count": null,
   "metadata": {},
   "outputs": [],
   "source": []
  },
  {
   "cell_type": "code",
   "execution_count": null,
   "metadata": {},
   "outputs": [],
   "source": []
  },
  {
   "cell_type": "code",
   "execution_count": null,
   "metadata": {},
   "outputs": [],
   "source": []
  },
  {
   "cell_type": "code",
   "execution_count": null,
   "metadata": {},
   "outputs": [],
   "source": []
  },
  {
   "cell_type": "code",
   "execution_count": null,
   "metadata": {},
   "outputs": [],
   "source": []
  },
  {
   "cell_type": "code",
   "execution_count": null,
   "metadata": {},
   "outputs": [],
   "source": []
  },
  {
   "cell_type": "code",
   "execution_count": null,
   "metadata": {},
   "outputs": [],
   "source": []
  },
  {
   "cell_type": "code",
   "execution_count": null,
   "metadata": {},
   "outputs": [],
   "source": []
  },
  {
   "cell_type": "code",
   "execution_count": null,
   "metadata": {},
   "outputs": [],
   "source": []
  }
 ],
 "metadata": {
  "kernelspec": {
   "display_name": "Python 3",
   "language": "python",
   "name": "python3"
  },
  "language_info": {
   "codemirror_mode": {
    "name": "ipython",
    "version": 3
   },
   "file_extension": ".py",
   "mimetype": "text/x-python",
   "name": "python",
   "nbconvert_exporter": "python",
   "pygments_lexer": "ipython3",
   "version": "3.7.0"
  }
 },
 "nbformat": 4,
 "nbformat_minor": 2
}
